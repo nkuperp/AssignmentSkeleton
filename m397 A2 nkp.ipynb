{
 "cells": [
  {
   "cell_type": "code",
   "execution_count": null,
   "id": "759d7c1e",
   "metadata": {},
   "outputs": [],
   "source": [
    "#MAST 397 Fall 2023 Term\n",
    "#Neebing Kuper-Psenicnik\n",
    "#\"Make a sports field\" Assignment\n"
   ]
  },
  {
   "cell_type": "code",
   "execution_count": 28,
   "id": "450c8ac1",
   "metadata": {},
   "outputs": [],
   "source": [
    "import numpy as np\n",
    "import matplotlib as mp\n",
    "import matplotlib.pyplot as plt\n",
    "\n",
    "from matplotlib.patches import *\n",
    "\n",
    "\n"
   ]
  },
  {
   "cell_type": "code",
   "execution_count": 42,
   "id": "04e424be",
   "metadata": {},
   "outputs": [
    {
     "ename": "SyntaxError",
     "evalue": "(unicode error) 'unicodeescape' codec can't decode bytes in position 2-3: truncated \\UXXXXXXXX escape (2970747572.py, line 77)",
     "output_type": "error",
     "traceback": [
      "\u001b[1;36m  Cell \u001b[1;32mIn[42], line 77\u001b[1;36m\u001b[0m\n\u001b[1;33m    logo=  mp.image.imread('C:\\Users\\neebi\\Downloads\\thumbsup.jpg')\u001b[0m\n\u001b[1;37m                                                                  ^\u001b[0m\n\u001b[1;31mSyntaxError\u001b[0m\u001b[1;31m:\u001b[0m (unicode error) 'unicodeescape' codec can't decode bytes in position 2-3: truncated \\UXXXXXXXX escape\n"
     ]
    }
   ],
   "source": [
    "def make_hockey_rink():\n",
    "    fig, ax= plt.subplots()\n",
    "    ax.set_aspect(aspect = 1.1,adjustable = 'box')\n",
    "    #dimensions of the rink are 200 x 85 ft\n",
    "    plt.plot([0,0],[28,57],color=\"Black\",linewidth=1.5)\n",
    "    plt.plot([28,172],[85,85],color=\"Black\",linewidth=1.5)\n",
    "    plt.plot([200,200],[57,28],color=\"Black\",linewidth=1.5)\n",
    "    plt.plot([28,172],[0,0],color=\"Black\",linewidth=1.5) #line blends more at y=-0.\n",
    "    \n",
    "    #Curved edges of the rink have a radius of 28 ft\n",
    "    tlEdge = Arc((28,57),width=28*2,height=28*2,theta1=90,theta2=180,color=\"Black\",linewidth=1.5)\n",
    "    trEdge = Arc((172,57),width=28*2,height=28*2,theta1=0,theta2=90,color=\"Black\",linewidth=1.5)\n",
    "    blEdge = Arc((28,28),width=28*2,height=28*2,theta1=180,theta2=270,color=\"Black\",linewidth=1.5)\n",
    "    brEdge = Arc((172,28),width=28*2,height=28*2,theta1=270,theta2=0,color=\"Black\",linewidth=1.5)\n",
    "    ax.add_patch(tlEdge)\n",
    "    ax.add_patch(trEdge)\n",
    "    ax.add_patch(blEdge)\n",
    "    ax.add_patch(brEdge)\n",
    "    \n",
    "    #zone lines: \n",
    "    #2 goal lines 11 ft in from the edge\n",
    "    plt.plot([11,11],[6.5,85-6.5],color=\"Red\",linewidth=1.5)\n",
    "    plt.plot([200-11,200-11],[6.5,85-6.5],color=\"Red\",linewidth=1.5)\n",
    "\n",
    "    #2 blue lines 75 ft in from the edge \n",
    "    plt.plot([75,75],[0,85],color=\"Blue\",linewidth=1.5)\n",
    "    plt.plot([200-75,200-75],[0,85],color=\"Blue\",linewidth=1.5)\n",
    "\n",
    "    #center line in the center\n",
    "    plt.plot([100,100],[0,85],color=\"Red\",linewidth=1.5)\n",
    "    \n",
    "    #Add center faceoff circle of radius 15 ft\n",
    "    ax.add_patch(Circle((100,85/2),radius = 15,fill=False,color=\"Blue\"))\n",
    "    ax.add_patch(Circle((100,85/2),radius = 1,fill=True,color=\"Blue\"))\n",
    "\n",
    "    #Add 4 in-zone faceoff circles, radius 15 ft\n",
    "    ax.add_patch(Circle((31,(85/2)-22),radius = 15,fill=False,color=\"Red\"))\n",
    "    ax.add_patch(Circle((200-31,(85/2)-22),radius = 15,fill=False,color=\"Red\"))\n",
    "    ax.add_patch(Circle((31,(85/2)+22),radius = 15,fill=False,color=\"Red\"))\n",
    "    ax.add_patch(Circle((200-31,(85/2)+22),radius = 15,fill=False,color=\"Red\"))\n",
    "    #and dots\n",
    "    ax.add_patch(Circle((31,(85/2)-22),radius = 1,fill=True,color=\"Red\"))\n",
    "    ax.add_patch(Circle((200-31,(85/2)-22),radius = 1,fill=True,color=\"Red\"))\n",
    "    ax.add_patch(Circle((31,(85/2)+22),radius = 1,fill=True,color=\"Red\"))\n",
    "    ax.add_patch(Circle((200-31,(85/2)+22),radius = 1,fill=True,color=\"Red\"))\n",
    "\n",
    "    #Add 4 neutral zone faceoff dots, 5 ft within each blue line\n",
    "    ax.add_patch(Circle((85,(85/2)-22),radius = 1,fill=True,color=\"Red\"))\n",
    "    ax.add_patch(Circle((200-85,(85/2)-22),radius = 1,fill=True,color=\"Red\"))\n",
    "    ax.add_patch(Circle((85,(85/2)+22),radius = 1,fill=True,color=\"Red\"))\n",
    "    ax.add_patch(Circle((200-85,(85/2)+22),radius = 1,fill=True,color=\"Red\"))\n",
    "    \n",
    "    #Goal creases\n",
    "    #rectangular portion\n",
    "    ax.add_patch(Rectangle((11,(85/2)-4.05),height=8,width=4.5)) \n",
    "    ax.add_patch(Rectangle((189,(85/2)-4.05),height=8,width=-4.5)) \n",
    "    #\"semicricle\" portion\n",
    "    ax.add_patch(Ellipse((15.5,85/2),width=6,height=7.5))\n",
    "    ax.add_patch(Ellipse((200-15.5,85/2),width=6,height=7.5))\n",
    "\n",
    "    #add nets - left side net\n",
    "    ax.add_patch(Arc((11-4,(85/2)),width=3.3,height=6,theta1=90,theta2=270,color=\"Red\"))\n",
    "    plt.plot([11-4,11],[85/2+3,85/2+3.1],color=\"Red\",linewidth=1)\n",
    "    plt.plot([11-4,11],[85/2-3,85/2-3],color=\"Red\",linewidth=1)\n",
    "    #right side net\n",
    "    ax.add_patch(Arc((189+4,(85/2)),width=3.3,height=6,theta1=270,theta2=90,color=\"Red\"))\n",
    "    plt.plot([189,189+4],[85/2+3,85/2+3.1],color=\"Red\",linewidth=1)\n",
    "    plt.plot([189,189+4],[85/2-3,85/2-3],color=\"Red\",linewidth=1)\n",
    "\n",
    "    #Goal line trapezoid\n",
    "    plt.plot([0.9,11],[85/2-14,85/2-11],color = \"Red\",linewidth=1)\n",
    "    plt.plot([0.9,11],[85/2+14,85/2+11],color = \"Red\",linewidth=1)\n",
    "    plt.plot([189,200-0.9],[85/2-11,85/2-14],color = \"Red\",linewidth=0.8)\n",
    "    plt.plot([189,200-0.9],[85/2+11,85/2+14],color = \"Red\",linewidth=0.8)\n",
    "    \n",
    "    #home team logo\n",
    "    logo=  mp.image.imread('C:\\Users\\neebi\\Downloads\\thumbsup.jpg')\n",
    "    plt.savefig(\"hockey_picture\")\n",
    "    \n",
    "make_hockey_rink()"
   ]
  }
 ],
 "metadata": {
  "kernelspec": {
   "display_name": "Python 3 (ipykernel)",
   "language": "python",
   "name": "python3"
  },
  "language_info": {
   "codemirror_mode": {
    "name": "ipython",
    "version": 3
   },
   "file_extension": ".py",
   "mimetype": "text/x-python",
   "name": "python",
   "nbconvert_exporter": "python",
   "pygments_lexer": "ipython3",
   "version": "3.11.5"
  }
 },
 "nbformat": 4,
 "nbformat_minor": 5
}
